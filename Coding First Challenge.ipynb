{
  "cells": [
    {
      "metadata": {
        "trusted": true
      },
      "cell_type": "code",
      "source": "variable = 'one line variable assignment'''",
      "execution_count": 1,
      "outputs": []
    },
    {
      "metadata": {
        "trusted": true
      },
      "cell_type": "code",
      "source": "some_other_var2 = '''\nFirst line\nSecond line\n'''",
      "execution_count": null,
      "outputs": []
    },
    {
      "metadata": {
        "trusted": true
      },
      "cell_type": "code",
      "source": "text = '''\nMichaelmas Term \n[2012] UKSC 43 \nOn appeal from: [2009] EWCA Civ 281 \n\nJUDGMENT \n\nBritish Airways plc (Respondents) v Williams (Appellant) and others  \n\n\nLord Hope, Deputy President \n\nbefore  \n\nLord Walker \nLord Mance \nLord Clarke  \nLord Sumption \n\nJUDGMENT GIVEN ON \n\n17 October 2012 \n\nHeard on 23 July 2012 \n'''",
      "execution_count": null,
      "outputs": []
    },
    {
      "metadata": {
        "trusted": true
      },
      "cell_type": "code",
      "source": "text",
      "execution_count": 2,
      "outputs": [
        {
          "output_type": "execute_result",
          "execution_count": 2,
          "data": {
            "text/plain": "'\\nMichaelmas Term \\n[2012] UKSC 43 \\nOn appeal from: [2009] EWCA Civ 281 \\n\\nJUDGMENT \\n\\nBritish Airways plc (Respondents) v Williams (Appellant) and others  \\n\\n\\nLord Hope, Deputy President \\n\\nbefore  \\n\\nLord Walker \\nLord Mance \\nLord Clarke  \\nLord Sumption \\n\\nJUDGMENT GIVEN ON \\n\\n17 October 2012 \\n\\nHeard on 23 July 2012 \\n'"
          },
          "metadata": {}
        }
      ]
    },
    {
      "metadata": {
        "trusted": true
      },
      "cell_type": "code",
      "source": "print(text)",
      "execution_count": 3,
      "outputs": [
        {
          "output_type": "stream",
          "text": "\nMichaelmas Term \n[2012] UKSC 43 \nOn appeal from: [2009] EWCA Civ 281 \n\nJUDGMENT \n\nBritish Airways plc (Respondents) v Williams (Appellant) and others  \n\n\nLord Hope, Deputy President \n\nbefore  \n\nLord Walker \nLord Mance \nLord Clarke  \nLord Sumption \n\nJUDGMENT GIVEN ON \n\n17 October 2012 \n\nHeard on 23 July 2012 \n\n",
          "name": "stdout"
        }
      ]
    },
    {
      "metadata": {
        "trusted": true
      },
      "cell_type": "code",
      "source": "text.find ('On appeal')",
      "execution_count": 37,
      "outputs": [
        {
          "output_type": "execute_result",
          "execution_count": 37,
          "data": {
            "text/plain": "34"
          },
          "metadata": {}
        }
      ]
    },
    {
      "metadata": {
        "trusted": true
      },
      "cell_type": "code",
      "source": "text[34:69]",
      "execution_count": 38,
      "outputs": [
        {
          "output_type": "execute_result",
          "execution_count": 38,
          "data": {
            "text/plain": "'On appeal from: [2009] EWCA Civ 281'"
          },
          "metadata": {}
        }
      ]
    },
    {
      "metadata": {
        "trusted": true
      },
      "cell_type": "code",
      "source": "text[50:69]",
      "execution_count": 74,
      "outputs": [
        {
          "output_type": "execute_result",
          "execution_count": 74,
          "data": {
            "text/plain": "'[2009] EWCA Civ 281'"
          },
          "metadata": {}
        }
      ]
    },
    {
      "metadata": {
        "trusted": true
      },
      "cell_type": "code",
      "source": "citation = text[50:69]",
      "execution_count": 131,
      "outputs": []
    },
    {
      "metadata": {
        "trusted": true
      },
      "cell_type": "code",
      "source": "citation",
      "execution_count": 132,
      "outputs": [
        {
          "output_type": "execute_result",
          "execution_count": 132,
          "data": {
            "text/plain": "'[2009] EWCA Civ 281'"
          },
          "metadata": {}
        }
      ]
    },
    {
      "metadata": {
        "trusted": true
      },
      "cell_type": "code",
      "source": "text. find('Heard on')",
      "execution_count": 124,
      "outputs": [
        {
          "output_type": "execute_result",
          "execution_count": 124,
          "data": {
            "text/plain": "288"
          },
          "metadata": {}
        }
      ]
    },
    {
      "metadata": {
        "trusted": true
      },
      "cell_type": "code",
      "source": "text[288:310]",
      "execution_count": 128,
      "outputs": [
        {
          "output_type": "execute_result",
          "execution_count": 128,
          "data": {
            "text/plain": "'Heard on 23 July 2012 '"
          },
          "metadata": {}
        }
      ]
    },
    {
      "metadata": {
        "trusted": true
      },
      "cell_type": "code",
      "source": "date = text[288:310]",
      "execution_count": 129,
      "outputs": []
    },
    {
      "metadata": {
        "trusted": true
      },
      "cell_type": "code",
      "source": "date",
      "execution_count": 130,
      "outputs": [
        {
          "output_type": "execute_result",
          "execution_count": 130,
          "data": {
            "text/plain": "'Heard on 23 July 2012 '"
          },
          "metadata": {}
        }
      ]
    },
    {
      "metadata": {
        "trusted": true
      },
      "cell_type": "code",
      "source": "text.find('British Airways')",
      "execution_count": 133,
      "outputs": [
        {
          "output_type": "execute_result",
          "execution_count": 133,
          "data": {
            "text/plain": "83"
          },
          "metadata": {}
        }
      ]
    },
    {
      "metadata": {
        "trusted": true
      },
      "cell_type": "code",
      "source": "text[83:150]",
      "execution_count": 137,
      "outputs": [
        {
          "output_type": "execute_result",
          "execution_count": 137,
          "data": {
            "text/plain": "'British Airways plc (Respondents) v Williams (Appellant) and others'"
          },
          "metadata": {}
        }
      ]
    },
    {
      "metadata": {
        "trusted": true
      },
      "cell_type": "code",
      "source": "parties = text[83:150]",
      "execution_count": 138,
      "outputs": []
    },
    {
      "metadata": {
        "trusted": true
      },
      "cell_type": "code",
      "source": "parties",
      "execution_count": 139,
      "outputs": [
        {
          "output_type": "execute_result",
          "execution_count": 139,
          "data": {
            "text/plain": "'British Airways plc (Respondents) v Williams (Appellant) and others'"
          },
          "metadata": {}
        }
      ]
    },
    {
      "metadata": {
        "trusted": true
      },
      "cell_type": "code",
      "source": "report = [parties, date, citation]",
      "execution_count": 161,
      "outputs": []
    },
    {
      "metadata": {
        "trusted": true
      },
      "cell_type": "code",
      "source": "print(report)",
      "execution_count": 162,
      "outputs": [
        {
          "output_type": "stream",
          "text": "['British Airways plc (Respondents) v Williams (Appellant) and others', 'Heard on 23 July 2012 ', '[2009] EWCA Civ 281']\n",
          "name": "stdout"
        }
      ]
    },
    {
      "metadata": {
        "trusted": true
      },
      "cell_type": "code",
      "source": "judges = {'[2009 EWCA Civ 281]':\n          {'Lord Hope': 'Male',\n          'Lord Walker': 'Male',\n           'Lord Mance':' Male',\n          'Lord Clarke': 'Male',\n          'Lord Sumption': 'Male'}} \n          ",
      "execution_count": 201,
      "outputs": []
    },
    {
      "metadata": {
        "trusted": true
      },
      "cell_type": "code",
      "source": "judges",
      "execution_count": 222,
      "outputs": [
        {
          "output_type": "execute_result",
          "execution_count": 222,
          "data": {
            "text/plain": "{'[2009 EWCA Civ 281]': {'Lord Hope': 'Male',\n  'Lord Walker': 'Male',\n  'Lord Mance': ' Male',\n  'Lord Clarke': 'Male',\n  'Lord Sumption': 'Male'}}"
          },
          "metadata": {}
        }
      ]
    },
    {
      "metadata": {
        "trusted": true
      },
      "cell_type": "code",
      "source": "print(report)",
      "execution_count": 223,
      "outputs": [
        {
          "output_type": "stream",
          "text": "['British Airways plc (Respondents) v Williams (Appellant) and others', 'Heard on 23 July 2012 ', '[2009] EWCA Civ 281']\n",
          "name": "stdout"
        }
      ]
    },
    {
      "metadata": {
        "trusted": true
      },
      "cell_type": "code",
      "source": "print(judges)",
      "execution_count": 224,
      "outputs": [
        {
          "output_type": "stream",
          "text": "{'[2009 EWCA Civ 281]': {'Lord Hope': 'Male', 'Lord Walker': 'Male', 'Lord Mance': ' Male', 'Lord Clarke': 'Male', 'Lord Sumption': 'Male'}}\n",
          "name": "stdout"
        }
      ]
    },
    {
      "metadata": {
        "trusted": true
      },
      "cell_type": "code",
      "source": "text2 = '''\nHilary Term \n[2010] UKSC 7 \nOn appeal from: 2008 HCJAC 53 \n\nJUDGMENT \n\nMcInnes (Appellant) v Her Majesty's Advocate (Respondent) (Scotland)  \n\n\nLord Hope, Deputy President \n\nbefore  \n\nLord Rodger \nLord Walker \nLord Brown \nLord Kerr \n\nJUDGMENT GIVEN ON \n\n10 February 2010 \n\nHeard on 8 and 9 December 2009 \n'''",
      "execution_count": 4,
      "outputs": []
    },
    {
      "metadata": {
        "trusted": true
      },
      "cell_type": "code",
      "source": "text2",
      "execution_count": 5,
      "outputs": [
        {
          "output_type": "execute_result",
          "execution_count": 5,
          "data": {
            "text/plain": "\"\\nHilary Term \\n[2010] UKSC 7 \\nOn appeal from: 2008 HCJAC 53 \\n\\nJUDGMENT \\n\\nMcInnes (Appellant) v Her Majesty's Advocate (Respondent) (Scotland)  \\n\\n\\nLord Hope, Deputy President \\n\\nbefore  \\n\\nLord Rodger \\nLord Walker \\nLord Brown \\nLord Kerr \\n\\nJUDGMENT GIVEN ON \\n\\n10 February 2010 \\n\\nHeard on 8 and 9 December 2009 \\n\""
          },
          "metadata": {}
        }
      ]
    },
    {
      "metadata": {
        "trusted": true
      },
      "cell_type": "code",
      "source": "print(text2)",
      "execution_count": 6,
      "outputs": [
        {
          "output_type": "stream",
          "text": "\nHilary Term \n[2010] UKSC 7 \nOn appeal from: 2008 HCJAC 53 \n\nJUDGMENT \n\nMcInnes (Appellant) v Her Majesty's Advocate (Respondent) (Scotland)  \n\n\nLord Hope, Deputy President \n\nbefore  \n\nLord Rodger \nLord Walker \nLord Brown \nLord Kerr \n\nJUDGMENT GIVEN ON \n\n10 February 2010 \n\nHeard on 8 and 9 December 2009 \n\n",
          "name": "stdout"
        }
      ]
    },
    {
      "metadata": {
        "trusted": true
      },
      "cell_type": "code",
      "source": "text2.find('On appeal')",
      "execution_count": 78,
      "outputs": [
        {
          "output_type": "execute_result",
          "execution_count": 78,
          "data": {
            "text/plain": "29"
          },
          "metadata": {}
        }
      ]
    },
    {
      "metadata": {
        "trusted": true
      },
      "cell_type": "code",
      "source": "text2[29:58]",
      "execution_count": 82,
      "outputs": [
        {
          "output_type": "execute_result",
          "execution_count": 82,
          "data": {
            "text/plain": "'On appeal from: 2008 HCJAC 53'"
          },
          "metadata": {}
        }
      ]
    },
    {
      "metadata": {
        "trusted": true
      },
      "cell_type": "code",
      "source": "text2[45:58]",
      "execution_count": 90,
      "outputs": [
        {
          "output_type": "execute_result",
          "execution_count": 90,
          "data": {
            "text/plain": "'2008 HCJAC 53'"
          },
          "metadata": {}
        }
      ]
    },
    {
      "metadata": {
        "trusted": true
      },
      "cell_type": "code",
      "source": "citation2 = text2[45:58]",
      "execution_count": 163,
      "outputs": []
    },
    {
      "metadata": {
        "trusted": true
      },
      "cell_type": "code",
      "source": "citation2",
      "execution_count": 164,
      "outputs": [
        {
          "output_type": "execute_result",
          "execution_count": 164,
          "data": {
            "text/plain": "'2008 HCJAC 53'"
          },
          "metadata": {}
        }
      ]
    },
    {
      "metadata": {
        "trusted": true
      },
      "cell_type": "code",
      "source": "text2.find('Heard on')",
      "execution_count": 165,
      "outputs": [
        {
          "output_type": "execute_result",
          "execution_count": 165,
          "data": {
            "text/plain": "274"
          },
          "metadata": {}
        }
      ]
    },
    {
      "metadata": {
        "trusted": true
      },
      "cell_type": "code",
      "source": "text2[274:305]",
      "execution_count": 169,
      "outputs": [
        {
          "output_type": "execute_result",
          "execution_count": 169,
          "data": {
            "text/plain": "'Heard on 8 and 9 December 2009 '"
          },
          "metadata": {}
        }
      ]
    },
    {
      "metadata": {
        "trusted": true
      },
      "cell_type": "code",
      "source": "date2 = text2[274:305]",
      "execution_count": 170,
      "outputs": []
    },
    {
      "metadata": {
        "trusted": true
      },
      "cell_type": "code",
      "source": "date2",
      "execution_count": 171,
      "outputs": [
        {
          "output_type": "execute_result",
          "execution_count": 171,
          "data": {
            "text/plain": "'Heard on 8 and 9 December 2009 '"
          },
          "metadata": {}
        }
      ]
    },
    {
      "metadata": {
        "trusted": true
      },
      "cell_type": "code",
      "source": "text2.find('McInnes')",
      "execution_count": 172,
      "outputs": [
        {
          "output_type": "execute_result",
          "execution_count": 172,
          "data": {
            "text/plain": "72"
          },
          "metadata": {}
        }
      ]
    },
    {
      "metadata": {
        "trusted": true
      },
      "cell_type": "code",
      "source": "text2[72:140]",
      "execution_count": 179,
      "outputs": [
        {
          "output_type": "execute_result",
          "execution_count": 179,
          "data": {
            "text/plain": "\"McInnes (Appellant) v Her Majesty's Advocate (Respondent) (Scotland)\""
          },
          "metadata": {}
        }
      ]
    },
    {
      "metadata": {
        "trusted": true
      },
      "cell_type": "code",
      "source": "parties2 = text2[72:140]",
      "execution_count": 180,
      "outputs": []
    },
    {
      "metadata": {
        "trusted": true
      },
      "cell_type": "code",
      "source": "parties2",
      "execution_count": 181,
      "outputs": [
        {
          "output_type": "execute_result",
          "execution_count": 181,
          "data": {
            "text/plain": "\"McInnes (Appellant) v Her Majesty's Advocate (Respondent) (Scotland)\""
          },
          "metadata": {}
        }
      ]
    },
    {
      "metadata": {
        "trusted": true
      },
      "cell_type": "code",
      "source": "report2 = [parties2, date2, citation2]",
      "execution_count": 182,
      "outputs": []
    },
    {
      "metadata": {
        "trusted": true
      },
      "cell_type": "code",
      "source": "print(report2)",
      "execution_count": 183,
      "outputs": [
        {
          "output_type": "stream",
          "text": "[\"McInnes (Appellant) v Her Majesty's Advocate (Respondent) (Scotland)\", 'Heard on 8 and 9 December 2009 ', '2008 HCJAC 53']\n",
          "name": "stdout"
        }
      ]
    },
    {
      "metadata": {
        "trusted": true
      },
      "cell_type": "code",
      "source": "judges2 = {'[2008 HCJAC 53]':\n          {'Lord Hope': 'Male',\n          'Lord Rodger': 'Male',\n           'Lord Walker':' Male',\n          'Lord Brown': 'Male',\n          'Lord Kerr': 'Male'}}",
      "execution_count": 247,
      "outputs": []
    },
    {
      "metadata": {
        "trusted": true
      },
      "cell_type": "code",
      "source": "judges2",
      "execution_count": 248,
      "outputs": [
        {
          "output_type": "execute_result",
          "execution_count": 248,
          "data": {
            "text/plain": "{'[2008 HCJAC 53]': {'Lord Hope': 'Male',\n  'Lord Rodger': 'Male',\n  'Lord Walker': ' Male',\n  'Lord Brown': 'Male',\n  'Lord Kerr': 'Male'}}"
          },
          "metadata": {}
        }
      ]
    },
    {
      "metadata": {
        "trusted": true
      },
      "cell_type": "code",
      "source": "print(report2)",
      "execution_count": 227,
      "outputs": [
        {
          "output_type": "stream",
          "text": "[\"McInnes (Appellant) v Her Majesty's Advocate (Respondent) (Scotland)\", 'Heard on 8 and 9 December 2009 ', '2008 HCJAC 53']\n",
          "name": "stdout"
        }
      ]
    },
    {
      "metadata": {
        "trusted": true
      },
      "cell_type": "code",
      "source": "print(judges2)",
      "execution_count": 228,
      "outputs": [
        {
          "output_type": "stream",
          "text": "{'[2009 EWCA Civ 281]': {'Lord Hope': 'Male', 'Lord Rodger': 'Male', 'Lord Walker': ' Male', 'Lord Brown': 'Male', 'Lord Kerr': 'Male'}}\n",
          "name": "stdout"
        }
      ]
    },
    {
      "metadata": {
        "trusted": true
      },
      "cell_type": "code",
      "source": "text3 = '''\nTrinity Term \n[2017] UKSC 51 \nOn appeal from: [2015] EWCA Civ 935 \n\n\nJUDGMENT \n\nR (on the application of UNISON) (Appellant) v Lord Chancellor (Respondent) \n\nbefore  \n\nLord Neuberger, President \nLady Hale, Deputy President \nLord Mance \nLord Kerr \nLord Wilson \nLord Reed \nLord Hughes \n\n \nJUDGMENT GIVEN ON \n\n26 July 2017 \n\nHeard on 27 and 28 March 2017 \n'''",
      "execution_count": 7,
      "outputs": []
    },
    {
      "metadata": {
        "trusted": true
      },
      "cell_type": "code",
      "source": "text3",
      "execution_count": 8,
      "outputs": [
        {
          "output_type": "execute_result",
          "execution_count": 8,
          "data": {
            "text/plain": "'\\nTrinity Term \\n[2017] UKSC 51 \\nOn appeal from: [2015] EWCA Civ 935 \\n\\n\\nJUDGMENT \\n\\nR (on the application of UNISON) (Appellant) v Lord Chancellor (Respondent) \\n\\nbefore  \\n\\nLord Neuberger, President \\nLady Hale, Deputy President \\nLord Mance \\nLord Kerr \\nLord Wilson \\nLord Reed \\nLord Hughes \\n\\n \\nJUDGMENT GIVEN ON \\n\\n26 July 2017 \\n\\nHeard on 27 and 28 March 2017 \\n'"
          },
          "metadata": {}
        }
      ]
    },
    {
      "metadata": {
        "trusted": true
      },
      "cell_type": "code",
      "source": "print(text3)",
      "execution_count": 9,
      "outputs": [
        {
          "output_type": "stream",
          "text": "\nTrinity Term \n[2017] UKSC 51 \nOn appeal from: [2015] EWCA Civ 935 \n\n\nJUDGMENT \n\nR (on the application of UNISON) (Appellant) v Lord Chancellor (Respondent) \n\nbefore  \n\nLord Neuberger, President \nLady Hale, Deputy President \nLord Mance \nLord Kerr \nLord Wilson \nLord Reed \nLord Hughes \n\n \nJUDGMENT GIVEN ON \n\n26 July 2017 \n\nHeard on 27 and 28 March 2017 \n\n",
          "name": "stdout"
        }
      ]
    },
    {
      "metadata": {
        "trusted": true
      },
      "cell_type": "code",
      "source": "text3.find('On appeal')",
      "execution_count": 100,
      "outputs": [
        {
          "output_type": "execute_result",
          "execution_count": 100,
          "data": {
            "text/plain": "31"
          },
          "metadata": {}
        }
      ]
    },
    {
      "metadata": {
        "trusted": true
      },
      "cell_type": "code",
      "source": "text3[31:66]",
      "execution_count": 101,
      "outputs": [
        {
          "output_type": "execute_result",
          "execution_count": 101,
          "data": {
            "text/plain": "'On appeal from: [2015] EWCA Civ 935'"
          },
          "metadata": {}
        }
      ]
    },
    {
      "metadata": {
        "trusted": true
      },
      "cell_type": "code",
      "source": "text3[46:66]",
      "execution_count": 102,
      "outputs": [
        {
          "output_type": "execute_result",
          "execution_count": 102,
          "data": {
            "text/plain": "' [2015] EWCA Civ 935'"
          },
          "metadata": {}
        }
      ]
    },
    {
      "metadata": {
        "trusted": true
      },
      "cell_type": "code",
      "source": "citation3 = text3[46:66]",
      "execution_count": 242,
      "outputs": []
    },
    {
      "metadata": {
        "trusted": true
      },
      "cell_type": "code",
      "source": "citation3",
      "execution_count": 243,
      "outputs": [
        {
          "output_type": "execute_result",
          "execution_count": 243,
          "data": {
            "text/plain": "' [2015] EWCA Civ 935'"
          },
          "metadata": {}
        }
      ]
    },
    {
      "metadata": {
        "trusted": true
      },
      "cell_type": "code",
      "source": "text3.find('Heard on')",
      "execution_count": 229,
      "outputs": [
        {
          "output_type": "execute_result",
          "execution_count": 229,
          "data": {
            "text/plain": "323"
          },
          "metadata": {}
        }
      ]
    },
    {
      "metadata": {
        "trusted": true
      },
      "cell_type": "code",
      "source": "text3[323:352]",
      "execution_count": 231,
      "outputs": [
        {
          "output_type": "execute_result",
          "execution_count": 231,
          "data": {
            "text/plain": "'Heard on 27 and 28 March 2017'"
          },
          "metadata": {}
        }
      ]
    },
    {
      "metadata": {
        "trusted": true
      },
      "cell_type": "code",
      "source": "date3 = text3[323:352]",
      "execution_count": 232,
      "outputs": []
    },
    {
      "metadata": {
        "trusted": true
      },
      "cell_type": "code",
      "source": "date3",
      "execution_count": 233,
      "outputs": [
        {
          "output_type": "execute_result",
          "execution_count": 233,
          "data": {
            "text/plain": "'Heard on 27 and 28 March 2017'"
          },
          "metadata": {}
        }
      ]
    },
    {
      "metadata": {
        "trusted": true
      },
      "cell_type": "code",
      "source": "text3.find('R')",
      "execution_count": 235,
      "outputs": [
        {
          "output_type": "execute_result",
          "execution_count": 235,
          "data": {
            "text/plain": "81"
          },
          "metadata": {}
        }
      ]
    },
    {
      "metadata": {
        "trusted": true
      },
      "cell_type": "code",
      "source": "text3[81:156]",
      "execution_count": 239,
      "outputs": [
        {
          "output_type": "execute_result",
          "execution_count": 239,
          "data": {
            "text/plain": "'R (on the application of UNISON) (Appellant) v Lord Chancellor (Respondent)'"
          },
          "metadata": {}
        }
      ]
    },
    {
      "metadata": {
        "trusted": true
      },
      "cell_type": "code",
      "source": "parties3 = text3[81:156]",
      "execution_count": 240,
      "outputs": []
    },
    {
      "metadata": {
        "trusted": true
      },
      "cell_type": "code",
      "source": "parties3",
      "execution_count": 241,
      "outputs": [
        {
          "output_type": "execute_result",
          "execution_count": 241,
          "data": {
            "text/plain": "'R (on the application of UNISON) (Appellant) v Lord Chancellor (Respondent)'"
          },
          "metadata": {}
        }
      ]
    },
    {
      "metadata": {
        "trusted": true
      },
      "cell_type": "code",
      "source": "report3 = [parties3, date3, citation3]",
      "execution_count": 244,
      "outputs": []
    },
    {
      "metadata": {
        "trusted": true
      },
      "cell_type": "code",
      "source": "print(report3)",
      "execution_count": 246,
      "outputs": [
        {
          "output_type": "stream",
          "text": "['R (on the application of UNISON) (Appellant) v Lord Chancellor (Respondent)', 'Heard on 27 and 28 March 2017', ' [2015] EWCA Civ 935']\n",
          "name": "stdout"
        }
      ]
    },
    {
      "metadata": {
        "trusted": true
      },
      "cell_type": "code",
      "source": "judges3 = {'[2015 EWCA Civ 935 ]':\n          {'Lord Neuberger': 'Male',\n          'Lady Hale': 'Female',\n           'Lord Mance':' Male',\n          'Lord Kerr': 'Male',\n          'Lord Wilson': 'Male',\n          'Lord Reed': 'Male',\n           'Lord Hughes': 'Male'}}",
      "execution_count": 249,
      "outputs": []
    },
    {
      "metadata": {
        "trusted": true
      },
      "cell_type": "code",
      "source": "judges3",
      "execution_count": 250,
      "outputs": [
        {
          "output_type": "execute_result",
          "execution_count": 250,
          "data": {
            "text/plain": "{'[2015 EWCA Civ 935 ]': {'Lord Neuberger': 'Male',\n  'Lady Hale': 'Female',\n  'Lord Mance': ' Male',\n  'Lord Kerr': 'Male',\n  'Lord Wilson': 'Male',\n  'Lord Reed': 'Male',\n  'Lord Hughes': 'Male'}}"
          },
          "metadata": {}
        }
      ]
    },
    {
      "metadata": {
        "trusted": true
      },
      "cell_type": "code",
      "source": "print(report3)",
      "execution_count": 251,
      "outputs": [
        {
          "output_type": "stream",
          "text": "['R (on the application of UNISON) (Appellant) v Lord Chancellor (Respondent)', 'Heard on 27 and 28 March 2017', ' [2015] EWCA Civ 935']\n",
          "name": "stdout"
        }
      ]
    },
    {
      "metadata": {
        "trusted": true
      },
      "cell_type": "code",
      "source": "print(judges3)",
      "execution_count": 252,
      "outputs": [
        {
          "output_type": "stream",
          "text": "{'[2015 EWCA Civ 935 ]': {'Lord Neuberger': 'Male', 'Lady Hale': 'Female', 'Lord Mance': ' Male', 'Lord Kerr': 'Male', 'Lord Wilson': 'Male', 'Lord Reed': 'Male', 'Lord Hughes': 'Male'}}\n",
          "name": "stdout"
        }
      ]
    },
    {
      "metadata": {
        "trusted": true
      },
      "cell_type": "code",
      "source": "text4 = '''\nHilary Term \n[2020] UKSC 15 \nOn appeal from: [2018] EWCA Civ 1515 \n\nZipvit Ltd (Appellant) v Commissioners for Her Majesty’s Revenue and Customs (Respondent) \n\nJUDGMENT \n\nbefore  \n\nLord Hodge \nLady Black \nLord Briggs \nLord Sales \nLord Hamblen \n\nJUDGMENT GIVEN ON 1 April 2020 \nHeard on 29 and 30 January 2020 \n'''",
      "execution_count": 10,
      "outputs": []
    },
    {
      "metadata": {
        "trusted": true
      },
      "cell_type": "code",
      "source": "text4",
      "execution_count": 11,
      "outputs": [
        {
          "output_type": "execute_result",
          "execution_count": 11,
          "data": {
            "text/plain": "'\\nHilary Term \\n[2020] UKSC 15 \\nOn appeal from: [2018] EWCA Civ 1515 \\n\\nZipvit Ltd (Appellant) v Commissioners for Her Majesty’s Revenue and Customs (Respondent) \\n\\nJUDGMENT \\n\\nbefore  \\n\\nLord Hodge \\nLady Black \\nLord Briggs \\nLord Sales \\nLord Hamblen \\n\\nJUDGMENT GIVEN ON 1 April 2020 \\nHeard on 29 and 30 January 2020 \\n'"
          },
          "metadata": {}
        }
      ]
    },
    {
      "metadata": {
        "trusted": true
      },
      "cell_type": "code",
      "source": "print(text4)",
      "execution_count": 12,
      "outputs": [
        {
          "output_type": "stream",
          "text": "\nHilary Term \n[2020] UKSC 15 \nOn appeal from: [2018] EWCA Civ 1515 \n\nZipvit Ltd (Appellant) v Commissioners for Her Majesty’s Revenue and Customs (Respondent) \n\nJUDGMENT \n\nbefore  \n\nLord Hodge \nLady Black \nLord Briggs \nLord Sales \nLord Hamblen \n\nJUDGMENT GIVEN ON 1 April 2020 \nHeard on 29 and 30 January 2020 \n\n",
          "name": "stdout"
        }
      ]
    },
    {
      "metadata": {
        "trusted": true
      },
      "cell_type": "code",
      "source": "text4.find('On appeal')",
      "execution_count": 108,
      "outputs": [
        {
          "output_type": "execute_result",
          "execution_count": 108,
          "data": {
            "text/plain": "30"
          },
          "metadata": {}
        }
      ]
    },
    {
      "metadata": {
        "trusted": true
      },
      "cell_type": "code",
      "source": "text4[30:66]",
      "execution_count": 112,
      "outputs": [
        {
          "output_type": "execute_result",
          "execution_count": 112,
          "data": {
            "text/plain": "'On appeal from: [2018] EWCA Civ 1515'"
          },
          "metadata": {}
        }
      ]
    },
    {
      "metadata": {
        "trusted": true
      },
      "cell_type": "code",
      "source": "text4[45:66]",
      "execution_count": 113,
      "outputs": [
        {
          "output_type": "execute_result",
          "execution_count": 113,
          "data": {
            "text/plain": "' [2018] EWCA Civ 1515'"
          },
          "metadata": {}
        }
      ]
    },
    {
      "metadata": {
        "trusted": true
      },
      "cell_type": "code",
      "source": "citation4 = text4[45:66]",
      "execution_count": 253,
      "outputs": []
    },
    {
      "metadata": {
        "trusted": true
      },
      "cell_type": "code",
      "source": "citation4",
      "execution_count": 255,
      "outputs": [
        {
          "output_type": "execute_result",
          "execution_count": 255,
          "data": {
            "text/plain": "' [2018] EWCA Civ 1515'"
          },
          "metadata": {}
        }
      ]
    },
    {
      "metadata": {
        "trusted": true
      },
      "cell_type": "code",
      "source": "text4.find('Heard on')",
      "execution_count": 256,
      "outputs": [
        {
          "output_type": "execute_result",
          "execution_count": 256,
          "data": {
            "text/plain": "278"
          },
          "metadata": {}
        }
      ]
    },
    {
      "metadata": {
        "trusted": true
      },
      "cell_type": "code",
      "source": "text4[278:310]",
      "execution_count": 258,
      "outputs": [
        {
          "output_type": "execute_result",
          "execution_count": 258,
          "data": {
            "text/plain": "'Heard on 29 and 30 January 2020 '"
          },
          "metadata": {}
        }
      ]
    },
    {
      "metadata": {
        "trusted": true
      },
      "cell_type": "code",
      "source": "date4 = text4[278:310]",
      "execution_count": 259,
      "outputs": []
    },
    {
      "metadata": {
        "trusted": true
      },
      "cell_type": "code",
      "source": "date4",
      "execution_count": 260,
      "outputs": [
        {
          "output_type": "execute_result",
          "execution_count": 260,
          "data": {
            "text/plain": "'Heard on 29 and 30 January 2020 '"
          },
          "metadata": {}
        }
      ]
    },
    {
      "metadata": {
        "trusted": true
      },
      "cell_type": "code",
      "source": "text4.find('Zipvit')",
      "execution_count": 261,
      "outputs": [
        {
          "output_type": "execute_result",
          "execution_count": 261,
          "data": {
            "text/plain": "69"
          },
          "metadata": {}
        }
      ]
    },
    {
      "metadata": {
        "trusted": true
      },
      "cell_type": "code",
      "source": "text4[69:158]",
      "execution_count": 266,
      "outputs": [
        {
          "output_type": "execute_result",
          "execution_count": 266,
          "data": {
            "text/plain": "'Zipvit Ltd (Appellant) v Commissioners for Her Majesty’s Revenue and Customs (Respondent)'"
          },
          "metadata": {}
        }
      ]
    },
    {
      "metadata": {
        "trusted": true
      },
      "cell_type": "code",
      "source": "parties4 = text4[69:158]",
      "execution_count": 267,
      "outputs": []
    },
    {
      "metadata": {
        "trusted": true
      },
      "cell_type": "code",
      "source": "parties4",
      "execution_count": 268,
      "outputs": [
        {
          "output_type": "execute_result",
          "execution_count": 268,
          "data": {
            "text/plain": "'Zipvit Ltd (Appellant) v Commissioners for Her Majesty’s Revenue and Customs (Respondent)'"
          },
          "metadata": {}
        }
      ]
    },
    {
      "metadata": {
        "trusted": true
      },
      "cell_type": "code",
      "source": "report4 = [parties4, date4, citation4]",
      "execution_count": 269,
      "outputs": []
    },
    {
      "metadata": {
        "trusted": true
      },
      "cell_type": "code",
      "source": "print(report4)",
      "execution_count": 271,
      "outputs": [
        {
          "output_type": "stream",
          "text": "['Zipvit Ltd (Appellant) v Commissioners for Her Majesty’s Revenue and Customs (Respondent)', 'Heard on 29 and 30 January 2020 ', ' [2018] EWCA Civ 1515']\n",
          "name": "stdout"
        }
      ]
    },
    {
      "metadata": {
        "trusted": true
      },
      "cell_type": "code",
      "source": "judges4 = {'[2018 EWCA Civ 1515]': {\n            'Lord Hodge': 'Male',\n            'Lady Black': 'Female',\n            'Lord Briggs': 'Male',\n            'Lord Sales': 'Male',\n            'Lord Hamblen': 'Male'}}",
      "execution_count": 272,
      "outputs": []
    },
    {
      "metadata": {
        "trusted": true
      },
      "cell_type": "code",
      "source": "judges4",
      "execution_count": 273,
      "outputs": [
        {
          "output_type": "execute_result",
          "execution_count": 273,
          "data": {
            "text/plain": "{'[2018 EWCA Civ 1515]': {'Lord Hodge': 'Male',\n  'Lady Black': 'Female',\n  'Lord Briggs': 'Male',\n  'Lord Sales': 'Male',\n  'Lord Hamblen': 'Male'}}"
          },
          "metadata": {}
        }
      ]
    },
    {
      "metadata": {
        "trusted": true
      },
      "cell_type": "code",
      "source": "print(report4)",
      "execution_count": 274,
      "outputs": [
        {
          "output_type": "stream",
          "text": "['Zipvit Ltd (Appellant) v Commissioners for Her Majesty’s Revenue and Customs (Respondent)', 'Heard on 29 and 30 January 2020 ', ' [2018] EWCA Civ 1515']\n",
          "name": "stdout"
        }
      ]
    },
    {
      "metadata": {
        "trusted": true
      },
      "cell_type": "code",
      "source": "print(judges4)",
      "execution_count": 275,
      "outputs": [
        {
          "output_type": "stream",
          "text": "{'[2018 EWCA Civ 1515]': {'Lord Hodge': 'Male', 'Lady Black': 'Female', 'Lord Briggs': 'Male', 'Lord Sales': 'Male', 'Lord Hamblen': 'Male'}}\n",
          "name": "stdout"
        }
      ]
    },
    {
      "metadata": {
        "trusted": true
      },
      "cell_type": "code",
      "source": "text5 = '''\n[2019] UKSC 41 \nOn appeals from: [2019] EWHC 2381 (QB) \nand [2019] CSIH 49 \n\nJUDGMENT \n\nR (on the application of Miller) (Appellant) v The \nPrime Minister (Respondent) \n\nCherry and others (Respondents) v Advocate \nGeneral for Scotland (Appellant) (Scotland) \n\nbefore  \nLady Hale, President \nLord Reed, Deputy President \nLord Kerr \nLord Wilson \nLord Carnwath \nLord Hodge \nLady Black \nLord Lloyd-Jones \nLady Arden \nLord Kitchin \nLord Sales \n\nJUDGMENT GIVEN ON \n\n24 September 2019 \n\nHeard on 17, 18 and 19 September 2019 \n'''",
      "execution_count": 13,
      "outputs": []
    },
    {
      "metadata": {
        "trusted": true
      },
      "cell_type": "code",
      "source": "text5",
      "execution_count": 14,
      "outputs": [
        {
          "output_type": "execute_result",
          "execution_count": 14,
          "data": {
            "text/plain": "'\\n[2019] UKSC 41 \\nOn appeals from: [2019] EWHC 2381 (QB) \\nand [2019] CSIH 49 \\n\\nJUDGMENT \\n\\nR (on the application of Miller) (Appellant) v The \\nPrime Minister (Respondent) \\n\\nCherry and others (Respondents) v Advocate \\nGeneral for Scotland (Appellant) (Scotland) \\n\\nbefore  \\nLady Hale, President \\nLord Reed, Deputy President \\nLord Kerr \\nLord Wilson \\nLord Carnwath \\nLord Hodge \\nLady Black \\nLord Lloyd-Jones \\nLady Arden \\nLord Kitchin \\nLord Sales \\n\\nJUDGMENT GIVEN ON \\n\\n24 September 2019 \\n\\nHeard on 17, 18 and 19 September 2019 \\n'"
          },
          "metadata": {}
        }
      ]
    },
    {
      "metadata": {
        "trusted": true
      },
      "cell_type": "code",
      "source": "print(text5)",
      "execution_count": 15,
      "outputs": [
        {
          "output_type": "stream",
          "text": "\n[2019] UKSC 41 \nOn appeals from: [2019] EWHC 2381 (QB) \nand [2019] CSIH 49 \n\nJUDGMENT \n\nR (on the application of Miller) (Appellant) v The \nPrime Minister (Respondent) \n\nCherry and others (Respondents) v Advocate \nGeneral for Scotland (Appellant) (Scotland) \n\nbefore  \nLady Hale, President \nLord Reed, Deputy President \nLord Kerr \nLord Wilson \nLord Carnwath \nLord Hodge \nLady Black \nLord Lloyd-Jones \nLady Arden \nLord Kitchin \nLord Sales \n\nJUDGMENT GIVEN ON \n\n24 September 2019 \n\nHeard on 17, 18 and 19 September 2019 \n\n",
          "name": "stdout"
        }
      ]
    },
    {
      "metadata": {
        "trusted": true
      },
      "cell_type": "code",
      "source": "text5.find('On appeal')",
      "execution_count": 116,
      "outputs": [
        {
          "output_type": "execute_result",
          "execution_count": 116,
          "data": {
            "text/plain": "17"
          },
          "metadata": {}
        }
      ]
    },
    {
      "metadata": {
        "trusted": true
      },
      "cell_type": "code",
      "source": "text5[17:51]",
      "execution_count": 120,
      "outputs": [
        {
          "output_type": "execute_result",
          "execution_count": 120,
          "data": {
            "text/plain": "'On appeals from: [2019] EWHC 2381 '"
          },
          "metadata": {}
        }
      ]
    },
    {
      "metadata": {
        "trusted": true
      },
      "cell_type": "code",
      "source": "text5[33:51]",
      "execution_count": 121,
      "outputs": [
        {
          "output_type": "execute_result",
          "execution_count": 121,
          "data": {
            "text/plain": "' [2019] EWHC 2381 '"
          },
          "metadata": {}
        }
      ]
    },
    {
      "metadata": {
        "trusted": true
      },
      "cell_type": "code",
      "source": "citation5 = text5[33:51]",
      "execution_count": 276,
      "outputs": []
    },
    {
      "metadata": {
        "trusted": true
      },
      "cell_type": "code",
      "source": "citation5",
      "execution_count": 277,
      "outputs": [
        {
          "output_type": "execute_result",
          "execution_count": 277,
          "data": {
            "text/plain": "' [2019] EWHC 2381 '"
          },
          "metadata": {}
        }
      ]
    },
    {
      "metadata": {
        "trusted": true
      },
      "cell_type": "code",
      "source": "text5.find('Heard on')",
      "execution_count": 278,
      "outputs": [
        {
          "output_type": "execute_result",
          "execution_count": 278,
          "data": {
            "text/plain": "481"
          },
          "metadata": {}
        }
      ]
    },
    {
      "metadata": {
        "trusted": true
      },
      "cell_type": "code",
      "source": "text5[481:519]",
      "execution_count": 281,
      "outputs": [
        {
          "output_type": "execute_result",
          "execution_count": 281,
          "data": {
            "text/plain": "'Heard on 17, 18 and 19 September 2019 '"
          },
          "metadata": {}
        }
      ]
    },
    {
      "metadata": {
        "trusted": true
      },
      "cell_type": "code",
      "source": "date5 = text5[481:519]",
      "execution_count": 282,
      "outputs": []
    },
    {
      "metadata": {
        "trusted": true
      },
      "cell_type": "code",
      "source": "date5",
      "execution_count": 283,
      "outputs": [
        {
          "output_type": "execute_result",
          "execution_count": 283,
          "data": {
            "text/plain": "'Heard on 17, 18 and 19 September 2019 '"
          },
          "metadata": {}
        }
      ]
    },
    {
      "metadata": {
        "trusted": true
      },
      "cell_type": "code",
      "source": "text5.find('R')",
      "execution_count": 284,
      "outputs": [
        {
          "output_type": "execute_result",
          "execution_count": 284,
          "data": {
            "text/plain": "89"
          },
          "metadata": {}
        }
      ]
    },
    {
      "metadata": {
        "trusted": true
      },
      "cell_type": "code",
      "source": "text5[89:169]",
      "execution_count": 288,
      "outputs": [
        {
          "output_type": "execute_result",
          "execution_count": 288,
          "data": {
            "text/plain": "'R (on the application of Miller) (Appellant) v The \\nPrime Minister (Respondent) '"
          },
          "metadata": {}
        }
      ]
    },
    {
      "metadata": {
        "trusted": true
      },
      "cell_type": "code",
      "source": "parties5 = text5[89:169]",
      "execution_count": 289,
      "outputs": []
    },
    {
      "metadata": {
        "trusted": true
      },
      "cell_type": "code",
      "source": "parties5",
      "execution_count": 290,
      "outputs": [
        {
          "output_type": "execute_result",
          "execution_count": 290,
          "data": {
            "text/plain": "'R (on the application of Miller) (Appellant) v The \\nPrime Minister (Respondent) '"
          },
          "metadata": {}
        }
      ]
    },
    {
      "metadata": {
        "trusted": true
      },
      "cell_type": "code",
      "source": "report5 = [parties5, date5, citation5]",
      "execution_count": 291,
      "outputs": []
    },
    {
      "metadata": {
        "trusted": true
      },
      "cell_type": "code",
      "source": "print(report5)",
      "execution_count": 292,
      "outputs": [
        {
          "output_type": "stream",
          "text": "['R (on the application of Miller) (Appellant) v The \\nPrime Minister (Respondent) ', 'Heard on 17, 18 and 19 September 2019 ', ' [2019] EWHC 2381 ']\n",
          "name": "stdout"
        }
      ]
    },
    {
      "metadata": {
        "trusted": true
      },
      "cell_type": "code",
      "source": "judges5 = {'[2019 EWHC 2381]': {\n            'Lady Hale': 'Female',\n            'Lord Reed': 'Male',\n            'Lord Kerr': 'Male',\n            'Lord Wilson': 'Male',\n            'Lord Carnwath': 'Male',\n            'Lord Hodge': 'Male',\n            'Lady Black': 'Female',\n            'Lord Llyod-Jones': 'Male',\n            'Lady Arden': 'Female',\n            'Lord Kitchin': 'Male',\n            'Lord Sales': 'Male'}}",
      "execution_count": 293,
      "outputs": []
    },
    {
      "metadata": {
        "trusted": true
      },
      "cell_type": "code",
      "source": "judges5",
      "execution_count": 294,
      "outputs": [
        {
          "output_type": "execute_result",
          "execution_count": 294,
          "data": {
            "text/plain": "{'[2019 EWHC 2381]': {'Lady Hale': 'Female',\n  'Lord Reed': 'Male',\n  'Lord Kerr': 'Male',\n  'Lord Wilson': 'Male',\n  'Lord Carnwath': 'Male',\n  'Lord Hodge': 'Male',\n  'Lady Black': 'Female',\n  'Lord Llyod-Jones': 'Male',\n  'Lady Arden': 'Female',\n  'Lord Kitchin': 'Male',\n  'Lord Sales': 'Male'}}"
          },
          "metadata": {}
        }
      ]
    },
    {
      "metadata": {
        "trusted": true
      },
      "cell_type": "code",
      "source": "print(report5)",
      "execution_count": 295,
      "outputs": [
        {
          "output_type": "stream",
          "text": "['R (on the application of Miller) (Appellant) v The \\nPrime Minister (Respondent) ', 'Heard on 17, 18 and 19 September 2019 ', ' [2019] EWHC 2381 ']\n",
          "name": "stdout"
        }
      ]
    },
    {
      "metadata": {
        "trusted": true
      },
      "cell_type": "code",
      "source": "print(judges5)",
      "execution_count": 296,
      "outputs": [
        {
          "output_type": "stream",
          "text": "{'[2019 EWHC 2381]': {'Lady Hale': 'Female', 'Lord Reed': 'Male', 'Lord Kerr': 'Male', 'Lord Wilson': 'Male', 'Lord Carnwath': 'Male', 'Lord Hodge': 'Male', 'Lady Black': 'Female', 'Lord Llyod-Jones': 'Male', 'Lady Arden': 'Female', 'Lord Kitchin': 'Male', 'Lord Sales': 'Male'}}\n",
          "name": "stdout"
        }
      ]
    },
    {
      "metadata": {
        "trusted": true
      },
      "cell_type": "code",
      "source": "",
      "execution_count": null,
      "outputs": []
    }
  ],
  "metadata": {
    "kernelspec": {
      "name": "python36",
      "display_name": "Python 3.6",
      "language": "python"
    },
    "language_info": {
      "mimetype": "text/x-python",
      "nbconvert_exporter": "python",
      "name": "python",
      "pygments_lexer": "ipython3",
      "version": "3.6.6",
      "file_extension": ".py",
      "codemirror_mode": {
        "version": 3,
        "name": "ipython"
      }
    }
  },
  "nbformat": 4,
  "nbformat_minor": 2
}